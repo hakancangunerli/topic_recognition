{
 "cells": [
  {
   "cell_type": "code",
   "execution_count": 1,
   "id": "3bbcc66c",
   "metadata": {},
   "outputs": [],
   "source": [
    "# !pip install pandas\n",
    "# !pip install plotly.express\n",
    "# !pip install spacy\n",
    "# !python -m spacy download en_core_web_sm\n",
    "import pandas as pd"
   ]
  },
  {
   "cell_type": "code",
   "execution_count": 2,
   "id": "1ad29ae3",
   "metadata": {},
   "outputs": [],
   "source": [
    "table = pd.read_csv(\"Book1.csv\")"
   ]
  },
  {
   "cell_type": "code",
   "execution_count": 3,
   "id": "7b7e4594",
   "metadata": {},
   "outputs": [
    {
     "data": {
      "text/html": [
       "<div>\n",
       "<style scoped>\n",
       "    .dataframe tbody tr th:only-of-type {\n",
       "        vertical-align: middle;\n",
       "    }\n",
       "\n",
       "    .dataframe tbody tr th {\n",
       "        vertical-align: top;\n",
       "    }\n",
       "\n",
       "    .dataframe thead th {\n",
       "        text-align: right;\n",
       "    }\n",
       "</style>\n",
       "<table border=\"1\" class=\"dataframe\">\n",
       "  <thead>\n",
       "    <tr style=\"text-align: right;\">\n",
       "      <th></th>\n",
       "      <th>text</th>\n",
       "    </tr>\n",
       "  </thead>\n",
       "  <tbody>\n",
       "    <tr>\n",
       "      <th>0</th>\n",
       "      <td>We can go</td>\n",
       "    </tr>\n",
       "    <tr>\n",
       "      <th>1</th>\n",
       "      <td>But it’s ok</td>\n",
       "    </tr>\n",
       "    <tr>\n",
       "      <th>2</th>\n",
       "      <td>I like iMessage lol</td>\n",
       "    </tr>\n",
       "    <tr>\n",
       "      <th>3</th>\n",
       "      <td>0</td>\n",
       "    </tr>\n",
       "    <tr>\n",
       "      <th>4</th>\n",
       "      <td>Up to u</td>\n",
       "    </tr>\n",
       "    <tr>\n",
       "      <th>...</th>\n",
       "      <td>...</td>\n",
       "    </tr>\n",
       "    <tr>\n",
       "      <th>62749</th>\n",
       "      <td>0a0f7b06258fa56271f64e0f23e3fa441cc9b319c85c3f...</td>\n",
       "    </tr>\n",
       "    <tr>\n",
       "      <th>62750</th>\n",
       "      <td>d3d35ca621a33896045285adc3168ef10b919a2ffc5774...</td>\n",
       "    </tr>\n",
       "    <tr>\n",
       "      <th>62751</th>\n",
       "      <td>c4df36a5b744449b16f99778985cad155c63a556efd20d...</td>\n",
       "    </tr>\n",
       "    <tr>\n",
       "      <th>62752</th>\n",
       "      <td>044a75ca7c5c425d0cf000d2190b04e7a31da7cdbeb1af...</td>\n",
       "    </tr>\n",
       "    <tr>\n",
       "      <th>62753</th>\n",
       "      <td>3501b995ad68a449a9d1d5f82d496ee3c82a66785e9158...</td>\n",
       "    </tr>\n",
       "  </tbody>\n",
       "</table>\n",
       "<p>62754 rows × 1 columns</p>\n",
       "</div>"
      ],
      "text/plain": [
       "                                                    text\n",
       "0                                              We can go\n",
       "1                                           But it’s ok \n",
       "2                                    I like iMessage lol\n",
       "3                                                      0\n",
       "4                                                Up to u\n",
       "...                                                  ...\n",
       "62749  0a0f7b06258fa56271f64e0f23e3fa441cc9b319c85c3f...\n",
       "62750  d3d35ca621a33896045285adc3168ef10b919a2ffc5774...\n",
       "62751  c4df36a5b744449b16f99778985cad155c63a556efd20d...\n",
       "62752  044a75ca7c5c425d0cf000d2190b04e7a31da7cdbeb1af...\n",
       "62753  3501b995ad68a449a9d1d5f82d496ee3c82a66785e9158...\n",
       "\n",
       "[62754 rows x 1 columns]"
      ]
     },
     "execution_count": 3,
     "metadata": {},
     "output_type": "execute_result"
    }
   ],
   "source": [
    "table"
   ]
  },
  {
   "cell_type": "code",
   "execution_count": 4,
   "id": "05e62345",
   "metadata": {},
   "outputs": [],
   "source": [
    "removables = ['￼', '0']\n",
    "for i in removables:\n",
    "    table = table[table['text'] != i]\n",
    "\n",
    "table\n",
    "\n",
    "\n",
    "# replace ’ with '\n",
    "table['text'] = table['text'].str.replace(\"’\", \"'\")\n",
    "\n"
   ]
  },
  {
   "cell_type": "code",
   "execution_count": 5,
   "id": "2f3ea86a",
   "metadata": {},
   "outputs": [
    {
     "data": {
      "text/html": [
       "<div>\n",
       "<style scoped>\n",
       "    .dataframe tbody tr th:only-of-type {\n",
       "        vertical-align: middle;\n",
       "    }\n",
       "\n",
       "    .dataframe tbody tr th {\n",
       "        vertical-align: top;\n",
       "    }\n",
       "\n",
       "    .dataframe thead th {\n",
       "        text-align: right;\n",
       "    }\n",
       "</style>\n",
       "<table border=\"1\" class=\"dataframe\">\n",
       "  <thead>\n",
       "    <tr style=\"text-align: right;\">\n",
       "      <th></th>\n",
       "      <th>text</th>\n",
       "    </tr>\n",
       "  </thead>\n",
       "  <tbody>\n",
       "    <tr>\n",
       "      <th>count</th>\n",
       "      <td>60469</td>\n",
       "    </tr>\n",
       "    <tr>\n",
       "      <th>unique</th>\n",
       "      <td>59451</td>\n",
       "    </tr>\n",
       "    <tr>\n",
       "      <th>top</th>\n",
       "      <td>Yes</td>\n",
       "    </tr>\n",
       "    <tr>\n",
       "      <th>freq</th>\n",
       "      <td>89</td>\n",
       "    </tr>\n",
       "  </tbody>\n",
       "</table>\n",
       "</div>"
      ],
      "text/plain": [
       "         text\n",
       "count   60469\n",
       "unique  59451\n",
       "top       Yes\n",
       "freq       89"
      ]
     },
     "execution_count": 5,
     "metadata": {},
     "output_type": "execute_result"
    }
   ],
   "source": [
    "table.describe()"
   ]
  },
  {
   "cell_type": "code",
   "execution_count": 6,
   "id": "42ec19b1",
   "metadata": {},
   "outputs": [
    {
     "data": {
      "text/plain": [
       "text                                                            \n",
       "Yes                                                                 89\n",
       "Lol                                                                 40\n",
       "Ok                                                                  35\n",
       "yes                                                                 34\n",
       "Yeah                                                                34\n",
       "                                                                    ..\n",
       "5aeead45373dd290634a8946d24d1427277eb96c2d4bff5aeda0772c70f62df2     1\n",
       "5aefb6593de1cd478e8e378ce0720367a52cb11ea18d0dd6f987b632053b224a     1\n",
       "5af2d07123002b111f05e82f1f8f0a805112baba2786df5f182536c6981773e0     1\n",
       "5af4b461e8d6cf08748135b452584e133e7a1c2d9bf2611c4d8252cb6b56e6e2     1\n",
       "😚                                                                    1\n",
       "Name: count, Length: 59451, dtype: int64"
      ]
     },
     "execution_count": 6,
     "metadata": {},
     "output_type": "execute_result"
    }
   ],
   "source": [
    "table.value_counts()"
   ]
  },
  {
   "cell_type": "code",
   "execution_count": 7,
   "id": "871da7ee",
   "metadata": {},
   "outputs": [],
   "source": [
    "table = table[table['text'].str.len() != 64]"
   ]
  },
  {
   "cell_type": "code",
   "execution_count": 8,
   "id": "d48785b6",
   "metadata": {},
   "outputs": [
    {
     "data": {
      "text/html": [
       "<div>\n",
       "<style scoped>\n",
       "    .dataframe tbody tr th:only-of-type {\n",
       "        vertical-align: middle;\n",
       "    }\n",
       "\n",
       "    .dataframe tbody tr th {\n",
       "        vertical-align: top;\n",
       "    }\n",
       "\n",
       "    .dataframe thead th {\n",
       "        text-align: right;\n",
       "    }\n",
       "</style>\n",
       "<table border=\"1\" class=\"dataframe\">\n",
       "  <thead>\n",
       "    <tr style=\"text-align: right;\">\n",
       "      <th></th>\n",
       "      <th>text</th>\n",
       "    </tr>\n",
       "  </thead>\n",
       "  <tbody>\n",
       "    <tr>\n",
       "      <th>0</th>\n",
       "      <td>We can go</td>\n",
       "    </tr>\n",
       "    <tr>\n",
       "      <th>1</th>\n",
       "      <td>But it's ok</td>\n",
       "    </tr>\n",
       "    <tr>\n",
       "      <th>2</th>\n",
       "      <td>I like iMessage lol</td>\n",
       "    </tr>\n",
       "    <tr>\n",
       "      <th>4</th>\n",
       "      <td>Up to u</td>\n",
       "    </tr>\n",
       "    <tr>\n",
       "      <th>5</th>\n",
       "      <td>I mean I don't mind</td>\n",
       "    </tr>\n",
       "    <tr>\n",
       "      <th>...</th>\n",
       "      <td>...</td>\n",
       "    </tr>\n",
       "    <tr>\n",
       "      <th>13847</th>\n",
       "      <td>I just settled in</td>\n",
       "    </tr>\n",
       "    <tr>\n",
       "      <th>27960</th>\n",
       "      <td>I wanted to take a deep dive into it during May</td>\n",
       "    </tr>\n",
       "    <tr>\n",
       "      <th>55391</th>\n",
       "      <td>Eve gelince konusuruz</td>\n",
       "    </tr>\n",
       "    <tr>\n",
       "      <th>55392</th>\n",
       "      <td>._.</td>\n",
       "    </tr>\n",
       "    <tr>\n",
       "      <th>55393</th>\n",
       "      <td>What if the Turkish name sounds English too</td>\n",
       "    </tr>\n",
       "  </tbody>\n",
       "</table>\n",
       "<p>4732 rows × 1 columns</p>\n",
       "</div>"
      ],
      "text/plain": [
       "                                                   text\n",
       "0                                             We can go\n",
       "1                                          But it's ok \n",
       "2                                   I like iMessage lol\n",
       "4                                               Up to u\n",
       "5                                   I mean I don't mind\n",
       "...                                                 ...\n",
       "13847                                I just settled in \n",
       "27960  I wanted to take a deep dive into it during May \n",
       "55391                             Eve gelince konusuruz\n",
       "55392                                               ._.\n",
       "55393       What if the Turkish name sounds English too\n",
       "\n",
       "[4732 rows x 1 columns]"
      ]
     },
     "execution_count": 8,
     "metadata": {},
     "output_type": "execute_result"
    }
   ],
   "source": [
    "table"
   ]
  },
  {
   "cell_type": "code",
   "execution_count": 9,
   "id": "432c7e5a",
   "metadata": {},
   "outputs": [],
   "source": [
    "lows = table.text.str.lower()"
   ]
  },
  {
   "cell_type": "code",
   "execution_count": 10,
   "id": "587d56bd",
   "metadata": {},
   "outputs": [
    {
     "data": {
      "text/plain": [
       "text\n",
       "yes                                                                   157\n",
       "lol                                                                    57\n",
       "okay                                                                   47\n",
       "ok                                                                     47\n",
       "no                                                                     45\n",
       "                                                                     ... \n",
       "i'd rather have u want to hangout with me                               1\n",
       "i don't want u to hang out with me because it feels like u have to      1\n",
       "i mean that not really a good thing                                     1\n",
       "u shouldn't feel like that :(                                           1\n",
       "what if the turkish name sounds english too                             1\n",
       "Name: count, Length: 3442, dtype: int64"
      ]
     },
     "execution_count": 10,
     "metadata": {},
     "output_type": "execute_result"
    }
   ],
   "source": [
    "lows.str.rstrip(\" \").value_counts()"
   ]
  },
  {
   "cell_type": "code",
   "execution_count": 11,
   "id": "8ba91afe",
   "metadata": {},
   "outputs": [],
   "source": [
    "import spacy"
   ]
  },
  {
   "cell_type": "code",
   "execution_count": 12,
   "id": "7420d428",
   "metadata": {},
   "outputs": [],
   "source": [
    "# %%python -m spacy download en_core_web_sm\n",
    "import spacy\n",
    "nlp = spacy.load(\"en_core_web_sm\")\n",
    "\n",
    "def lemmatize_text(text):\n",
    "    doc = nlp(text)\n",
    "    lemmas = [token.lemma_ for token in doc]\n",
    "    return ' '.join(lemmas)"
   ]
  },
  {
   "cell_type": "code",
   "execution_count": 13,
   "id": "3821ab35",
   "metadata": {},
   "outputs": [],
   "source": [
    "table['lemma'] = table['text'].apply(lambda x: lemmatize_text(x))"
   ]
  },
  {
   "cell_type": "code",
   "execution_count": 14,
   "id": "68d0587b",
   "metadata": {},
   "outputs": [
    {
     "data": {
      "text/plain": [
       "0               we can go\n",
       "1            but it be ok\n",
       "2     I like iMessage lol\n",
       "4                 up to u\n",
       "5    I mean I do not mind\n",
       "6                     why\n",
       "7              what be up\n",
       "Name: lemma, dtype: object"
      ]
     },
     "execution_count": 14,
     "metadata": {},
     "output_type": "execute_result"
    }
   ],
   "source": [
    "table['lemma'].head(7)"
   ]
  },
  {
   "cell_type": "code",
   "execution_count": 15,
   "id": "99d8f182",
   "metadata": {},
   "outputs": [],
   "source": [
    "with open('output.txt', 'w') as f:\n",
    "    f.write(table['lemma'].str.cat(sep='\\n'))"
   ]
  },
  {
   "cell_type": "code",
   "execution_count": 16,
   "id": "f183a374",
   "metadata": {},
   "outputs": [
    {
     "name": "stdout",
     "output_type": "stream",
     "text": [
      "yes : 204\n",
      "lol : 188\n",
      "go : 117\n",
      "get : 110\n",
      "yeah : 102\n",
      "know : 85\n",
      "think : 68\n",
      "baby : 67\n",
      "good : 63\n",
      "cano : 62\n"
     ]
    }
   ],
   "source": [
    "text = open(\"output.txt\", \"r\")\n",
    "\n",
    "\n",
    "d = dict()\n",
    "\n",
    "\n",
    "for line in text:\n",
    "    \n",
    "    line = line.strip()\n",
    "\n",
    "    line = line.lower()\n",
    "\n",
    "    words = line.split(\" \")\n",
    "    # Iterate over each word in line\n",
    "    for word in words:\n",
    "        # Check if the word is already in dictionary\n",
    "        if word in d:\n",
    "            # Increment count of word by 1\n",
    "            d[word] = d[word] + 1\n",
    "        else:\n",
    "            # Add the word to dictionary with count 1\n",
    "            d[word] = 1\n",
    "\n",
    "# Remove the most used words in English, used from nltk, added a bit too\n",
    "common_words =[ 'i', 'me', 'my', 'myself', 'we', 'our', 'ours', 'ourselves', 'you', \"you're\", \"you've\", \"you'll\", \"you'd\", 'your', 'yours',\n",
    "    'yourself', 'yourselves', 'he', 'him', 'his', 'himself', 'she', \"she's\", 'her', 'hers', 'herself', 'it', \"it's\", 'its',\n",
    "    'itself', 'they', 'them', 'their', 'theirs', 'themselves', 'what', 'which', 'who', 'whom', 'this', 'that', \"that'll\",\n",
    "    'these', 'those', 'am', 'is', 'are', 'was', 'were', 'be', 'been', 'being', 'have', 'has', 'had', 'having', 'do', 'does',\n",
    "    'did', 'doing', 'a', 'an', 'the', 'and', 'but', 'if', 'or', 'because', 'as', 'until', 'while', 'of', 'at', 'by', 'for',\n",
    "    'with', 'about', 'against', 'between', 'into', 'through', 'during', 'before', 'after', 'above', 'below', 'to', 'from',\n",
    "    'up', 'down', 'in', 'out', 'on', 'off', 'over', 'under', 'again', 'further', 'then', 'once', 'here', 'there', 'when',\n",
    "    'where', 'why', 'how', 'all', 'any', 'both', 'each', 'few', 'more', 'most', 'other', 'some', 'such', 'no', 'nor', 'not',\n",
    "    'only', 'own', 'same', 'so', 'than', 'too', 'very', 's', 't', 'can', 'will', 'just', 'don', \"don't\", 'should',\n",
    "    \"should've\", 'now', 'd', 'll', 'm', 'o', 're', 've', 'y', 'ain', 'aren', \"aren't\", 'couldn', \"couldn't\", 'didn',\n",
    "    \"didn't\", 'doesn', \"doesn't\", 'hadn', \"hadn't\", 'hasn', \"hasn't\", 'haven', \"haven't\", 'isn', \"isn't\", 'ma', 'mightn', \"cant\",\n",
    "    \"mightn't\", 'mustn', \"mustn't\", 'needn', \"needn't\", 'shan', \"shan't\", 'shouldn', \"shouldn't\", 'wasn', \"wasn't\",\"ya\", \"lemme\",\n",
    "    'weren', \"weren't\", 'won', \"won't\", 'wouldn', \"wouldn't\", \"u\", \"?\", \"ok\", \"ur\", \"like\", \"okay\", \"oki\", \"haha\", \"im\", \"wanna\"\n",
    "]\n",
    "\n",
    "\n",
    "# Remove the common words from the dictionary\n",
    "for word in common_words:\n",
    "    if word in d:\n",
    "        del d[word]\n",
    "            \n",
    "            \n",
    "sorted_d = sorted(d.items(), key=lambda x: x[1], reverse=True)\n",
    "\n",
    "\n",
    "for key, value in sorted_d[:10]:\n",
    "    print(key, \":\", value)\n"
   ]
  },
  {
   "cell_type": "code",
   "execution_count": 17,
   "id": "24693f48",
   "metadata": {},
   "outputs": [
    {
     "data": {
      "text/plain": [
       "2722"
      ]
     },
     "execution_count": 17,
     "metadata": {},
     "output_type": "execute_result"
    }
   ],
   "source": [
    "len(sorted_d)"
   ]
  },
  {
   "cell_type": "code",
   "execution_count": 18,
   "id": "7b6f5eac",
   "metadata": {},
   "outputs": [
    {
     "data": {
      "text/plain": [
       "8737"
      ]
     },
     "execution_count": 18,
     "metadata": {},
     "output_type": "execute_result"
    }
   ],
   "source": [
    "x= 0\n",
    "for key, value in sorted_d:\n",
    "    x+= value\n",
    "x"
   ]
  },
  {
   "cell_type": "code",
   "execution_count": 19,
   "id": "9c675aaf",
   "metadata": {},
   "outputs": [
    {
     "name": "stdout",
     "output_type": "stream",
     "text": [
      "3.209772226304188\n"
     ]
    }
   ],
   "source": [
    "cutoff = x/len(sorted_d)\n",
    "print(cutoff) # on average, this is the length"
   ]
  },
  {
   "cell_type": "code",
   "execution_count": 20,
   "id": "ca7489a1",
   "metadata": {},
   "outputs": [],
   "source": [
    "cut = {}\n",
    "# remove words shorter than this value\n",
    "for key, value in sorted_d:\n",
    "    if value > cutoff:\n",
    "        cut.update({key: value})"
   ]
  },
  {
   "cell_type": "code",
   "execution_count": 21,
   "id": "a0ee1880",
   "metadata": {},
   "outputs": [
    {
     "data": {
      "text/plain": [
       "476"
      ]
     },
     "execution_count": 21,
     "metadata": {},
     "output_type": "execute_result"
    }
   ],
   "source": [
    "len(cut)"
   ]
  },
  {
   "cell_type": "code",
   "execution_count": 22,
   "id": "f84d1727",
   "metadata": {},
   "outputs": [
    {
     "name": "stdout",
     "output_type": "stream",
     "text": [
      "{'yes': 204, 'lol': 188, 'go': 117, 'get': 110, 'yeah': 102, 'know': 85, 'think': 68, 'baby': 67, 'good': 63, 'cano': 62}\n"
     ]
    }
   ],
   "source": [
    "#Most used 10 words within the sentence. \n",
    "most_used_10_words_dict = dict(list(cut.items())[0: 10]) \n",
    "print(most_used_10_words_dict)"
   ]
  },
  {
   "cell_type": "code",
   "execution_count": 23,
   "id": "4842e66e",
   "metadata": {},
   "outputs": [],
   "source": [
    "def extract_subject(sentence):\n",
    "    doc = nlp(sentence)\n",
    "    for token in doc:\n",
    "        if token.dep_ == 'nsubj':\n",
    "            return token.text\n",
    "    return \"\"\n",
    "\n",
    "# Apply the function to the \"lemma\" column\n",
    "table['subject'] = table['lemma'].apply(extract_subject)"
   ]
  },
  {
   "cell_type": "code",
   "execution_count": 24,
   "id": "cc1c13ea",
   "metadata": {
    "scrolled": false
   },
   "outputs": [
    {
     "name": "stdout",
     "output_type": "stream",
     "text": [
      "parent : 7\n",
      "people : 4\n",
      "friend : 4\n",
      "zeyno : 4\n",
      "stomach : 4\n",
      "yav : 4\n",
      "cano : 3\n",
      "guy : 3\n",
      "head : 3\n"
     ]
    }
   ],
   "source": [
    "with open('subject_matter.txt', 'w') as f:\n",
    "    f.write(table['subject'].str.cat(sep='\\n'))\n",
    "\n",
    "text = open(\"subject_matter.txt\", \"r\")\n",
    "\n",
    "\n",
    "d = dict()\n",
    "\n",
    "\n",
    "for line in text:\n",
    "    \n",
    "    line = line.strip()\n",
    "    line = line.rstrip()\n",
    "\n",
    "    line = line.lower()\n",
    "\n",
    "    words = line.split(\" \")\n",
    "    # Iterate over each word in line\n",
    "    for word in words:\n",
    "        # Check if the word is already in dictionary\n",
    "        if word in d:\n",
    "            # Increment count of word by 1\n",
    "            d[word] = d[word] + 1\n",
    "        else:\n",
    "            # Add the word to dictionary with count 1\n",
    "            d[word] = 1\n",
    "\n",
    "# Remove the common words from the dictionary\n",
    "for word in common_words:\n",
    "    if word in d:\n",
    "        del d[word]\n",
    "            \n",
    "            \n",
    "sorted_d = sorted(d.items(), key=lambda x: x[1], reverse=True)\n",
    "\n",
    "most_used_10_topics_dict = {}\n",
    "\n",
    "# Most common topics\n",
    "for key, value in sorted_d[1:10]: # first element is a space\n",
    "    print(key, \":\", value)\n",
    "    most_used_10_topics_dict.update({key:value})"
   ]
  },
  {
   "cell_type": "code",
   "execution_count": 25,
   "id": "e8ade47c",
   "metadata": {},
   "outputs": [
    {
     "name": "stdout",
     "output_type": "stream",
     "text": [
      "{'parent': 7, 'people': 4, 'friend': 4, 'zeyno': 4, 'stomach': 4, 'yav': 4, 'cano': 3, 'guy': 3, 'head': 3}\n"
     ]
    }
   ],
   "source": [
    "print(most_used_10_topics_dict)"
   ]
  },
  {
   "cell_type": "code",
   "execution_count": 26,
   "id": "997a3390",
   "metadata": {},
   "outputs": [
    {
     "name": "stdout",
     "output_type": "stream",
     "text": [
      "{'yes': 204, 'lol': 188, 'go': 117, 'get': 110, 'yeah': 102, 'know': 85, 'think': 68, 'baby': 67, 'good': 63, 'cano': 62}\n"
     ]
    }
   ],
   "source": [
    "print(most_used_10_words_dict)"
   ]
  },
  {
   "cell_type": "code",
   "execution_count": 27,
   "id": "eafc6767",
   "metadata": {},
   "outputs": [],
   "source": [
    "common_keys = set(most_used_10_topics_dict.keys()) & set(most_used_10_words_dict.keys())"
   ]
  },
  {
   "cell_type": "code",
   "execution_count": 28,
   "id": "acbe56a4",
   "metadata": {},
   "outputs": [
    {
     "name": "stdout",
     "output_type": "stream",
     "text": [
      "{'cano'}\n"
     ]
    }
   ],
   "source": [
    "print(common_keys) # aw the most common word is me :) "
   ]
  },
  {
   "cell_type": "code",
   "execution_count": null,
   "id": "1a3c6c0d",
   "metadata": {},
   "outputs": [],
   "source": []
  }
 ],
 "metadata": {
  "kernelspec": {
   "display_name": "Python 3 (ipykernel)",
   "language": "python",
   "name": "python3"
  },
  "language_info": {
   "codemirror_mode": {
    "name": "ipython",
    "version": 3
   },
   "file_extension": ".py",
   "mimetype": "text/x-python",
   "name": "python",
   "nbconvert_exporter": "python",
   "pygments_lexer": "ipython3",
   "version": "3.11.4"
  }
 },
 "nbformat": 4,
 "nbformat_minor": 5
}
